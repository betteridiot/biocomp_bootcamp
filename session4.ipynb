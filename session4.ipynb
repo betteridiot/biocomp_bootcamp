{
 "cells": [
  {
   "cell_type": "markdown",
   "metadata": {},
   "source": [
    "# Session IV: System Calls and Plotting"
   ]
  },
  {
   "cell_type": "markdown",
   "metadata": {},
   "source": [
    "---\n",
    "### Session III Challenge"
   ]
  },
  {
   "cell_type": "code",
   "execution_count": null,
   "metadata": {},
   "outputs": [],
   "source": [
    "#!/usr/bin/env python\n",
    "\"\"\" Compares two ages\n",
    "\n",
    "Finds the difference of years between an age and a birthdate\n",
    "\n",
    "Usage: python basic_template.py 9001 12\n",
    "\n",
    "Args:\n",
    "    (str): age of the navigator\n",
    "    (str): age of the driver\n",
    "\n",
    "Returns:\n",
    "    (int): difference of age in years\n",
    "\n",
    "\"\"\"\n",
    "import sys\n",
    "\n",
    "        \n",
    "def main(navigator_age, driver_age):\n",
    "    \"\"\" Finds the difference between an age and birthdate in years\n",
    "    \n",
    "    Args:\n",
    "        navigator_age (int): age of the navigator\n",
    "        driver_age (int): age of the driver\n",
    "    \n",
    "    Returns:\n",
    "        Difference in age\n",
    "    \"\"\"\n",
    "    diff = abs(navigator_age - driver_age)\n",
    "    print(f'Difference of {diff} years')\n",
    "    return diff\n",
    "            \n",
    "    \n",
    "if __name__ == '__main__':\n",
    "    n_age = int(sys.argv[1])\n",
    "    d_age = int(sys.argv[2])\n",
    "    main(n_age, d_age)"
   ]
  },
  {
   "cell_type": "markdown",
   "metadata": {},
   "source": [
    "---"
   ]
  },
  {
   "cell_type": "markdown",
   "metadata": {},
   "source": [
    "## System Calls"
   ]
  },
  {
   "cell_type": "markdown",
   "metadata": {},
   "source": [
    "Like it was stated before. One of the biggest strengths of Python is its ability to 'glue' together many programs. This can be done though different APIs and libraries. However, some programs don't have an easy solution like that. For those, we use **system calls**.\n",
    "\n",
    "Where we have run Python from the command line, it is possible to run the command line from Python. Here are some ways to use it."
   ]
  },
  {
   "cell_type": "code",
   "execution_count": 14,
   "metadata": {},
   "outputs": [],
   "source": [
    "from subprocess import run, PIPE"
   ]
  },
  {
   "cell_type": "markdown",
   "metadata": {},
   "source": [
    "The whole API for system calls can be found [here](https://docs.python.org/3/library/subprocess.html) or:"
   ]
  },
  {
   "cell_type": "code",
   "execution_count": null,
   "metadata": {},
   "outputs": [],
   "source": [
    "?run()"
   ]
  },
  {
   "cell_type": "markdown",
   "metadata": {},
   "source": [
    "**Fair Warning**: it is long!\n",
    "\n",
    "The general idea of using `run()` is to give it all the information it needs to send to the command line, and whether or not to capture the output."
   ]
  },
  {
   "cell_type": "code",
   "execution_count": null,
   "metadata": {},
   "outputs": [],
   "source": [
    "# When would you not need to save the output?\n",
    "run('mkdir ./tickle', shell=True) # That is fun, but I don't want that directory anymore\n",
    "run('rm -rf ./tickle', shell=True)"
   ]
  },
  {
   "cell_type": "code",
   "execution_count": 27,
   "metadata": {},
   "outputs": [
    {
     "data": {
      "text/plain": [
       "'CODE_OF_CONDUCT.md\\n'"
      ]
     },
     "execution_count": 27,
     "metadata": {},
     "output_type": "execute_result"
    }
   ],
   "source": [
    "# When would be a time you would want to store the output?\n",
    "job = run('ls | grep CODE', shell=True, encoding = 'utf-8', stdout = PIPE)\n",
    "job.stdout"
   ]
  },
  {
   "cell_type": "markdown",
   "metadata": {},
   "source": [
    "What is `shell`, and why is it set to `True`?"
   ]
  },
  {
   "cell_type": "code",
   "execution_count": null,
   "metadata": {},
   "outputs": [],
   "source": []
  },
  {
   "cell_type": "markdown",
   "metadata": {},
   "source": [
    "It is as easy as that. \n",
    "\n",
    "Just like command line arguments, the shell returns what ***kind*** of object?"
   ]
  },
  {
   "cell_type": "code",
   "execution_count": null,
   "metadata": {},
   "outputs": [],
   "source": [
    "type(job.stdout)"
   ]
  },
  {
   "cell_type": "markdown",
   "metadata": {},
   "source": [
    "---"
   ]
  },
  {
   "cell_type": "markdown",
   "metadata": {},
   "source": [
    "## Tabular data analysis with `pandas`"
   ]
  },
  {
   "cell_type": "code",
   "execution_count": null,
   "metadata": {},
   "outputs": [],
   "source": []
  }
 ],
 "metadata": {
  "kernelspec": {
   "display_name": "Python 3",
   "language": "python",
   "name": "python3"
  },
  "language_info": {
   "codemirror_mode": {
    "name": "ipython",
    "version": 3
   },
   "file_extension": ".py",
   "mimetype": "text/x-python",
   "name": "python",
   "nbconvert_exporter": "python",
   "pygments_lexer": "ipython3",
   "version": "3.6.6"
  }
 },
 "nbformat": 4,
 "nbformat_minor": 2
}
