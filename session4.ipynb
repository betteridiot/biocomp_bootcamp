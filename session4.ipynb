{
 "cells": [
  {
   "cell_type": "markdown",
   "metadata": {},
   "source": [
    "# Session IV"
   ]
  },
  {
   "cell_type": "markdown",
   "metadata": {},
   "source": [
    "---\n",
    "### Session III Challenge"
   ]
  },
  {
   "cell_type": "code",
   "execution_count": null,
   "metadata": {},
   "outputs": [],
   "source": [
    "#!/usr/bin/env python\n",
    "\"\"\" Compares two ages\n",
    "\n",
    "Finds the difference of years between an age and a birthdate\n",
    "\n",
    "Usage: python basic_template.py 9001 12\n",
    "\n",
    "Args:\n",
    "    (str): age of the navigator\n",
    "    (str): age of the driver\n",
    "\n",
    "Returns:\n",
    "    (int): difference of age in years\n",
    "\n",
    "\"\"\"\n",
    "import sys\n",
    "\n",
    "        \n",
    "def main(navigator_age, driver_age):\n",
    "    \"\"\" Finds the difference between an age and birthdate in years\n",
    "    \n",
    "    Args:\n",
    "        navigator_age (int): age of the navigator\n",
    "        driver_age (int): age of the driver\n",
    "    \n",
    "    Returns:\n",
    "        Difference in age\n",
    "    \"\"\"\n",
    "    diff = abs(navigator_age - driver_age)\n",
    "    print(f'Difference of {diff} years')\n",
    "    return diff\n",
    "            \n",
    "    \n",
    "if __name__ == '__main__':\n",
    "    n_age = int(sys.argv[1])\n",
    "    d_age = int(sys.argv[2])\n",
    "    main(n_age, d_age)"
   ]
  },
  {
   "cell_type": "markdown",
   "metadata": {},
   "source": [
    "---"
   ]
  },
  {
   "cell_type": "markdown",
   "metadata": {},
   "source": [
    "## System Calls and Plotting"
   ]
  },
  {
   "cell_type": "markdown",
   "metadata": {},
   "source": []
  }
 ],
 "metadata": {
  "kernelspec": {
   "display_name": "Python 3",
   "language": "python",
   "name": "python3"
  },
  "language_info": {
   "codemirror_mode": {
    "name": "ipython",
    "version": 3
   },
   "file_extension": ".py",
   "mimetype": "text/x-python",
   "name": "python",
   "nbconvert_exporter": "python",
   "pygments_lexer": "ipython3",
   "version": "3.6.6"
  }
 },
 "nbformat": 4,
 "nbformat_minor": 2
}
