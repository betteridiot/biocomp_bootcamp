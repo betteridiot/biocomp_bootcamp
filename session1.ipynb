{
 "cells": [
  {
   "cell_type": "markdown",
   "metadata": {},
   "source": [
    "# Session I"
   ]
  },
  {
   "cell_type": "markdown",
   "metadata": {},
   "source": [
    "---"
   ]
  },
  {
   "cell_type": "markdown",
   "metadata": {},
   "source": [
    "## Introduction to Python and Programming Concepts"
   ]
  },
  {
   "cell_type": "markdown",
   "metadata": {},
   "source": [
    "### What is Programming?"
   ]
  },
  {
   "cell_type": "markdown",
   "metadata": {},
   "source": []
  },
  {
   "cell_type": "markdown",
   "metadata": {},
   "source": [
    "---"
   ]
  },
  {
   "cell_type": "markdown",
   "metadata": {},
   "source": [
    "### What is Python?"
   ]
  },
  {
   "cell_type": "markdown",
   "metadata": {},
   "source": [
    "[Here](https://www.python.org/doc/essays/blurb/) is a link to the full, 50&#xa2; word description of Python. This big take-away keywords to know are:\n",
    "1. *Scripted Language*: supports running scripts\n",
    "2. *Interpreted*: an 'interpreter' translates the code as it comes to it, instead of compiling it beforehand\n",
    "3. *Object-oriented*: everything is an 'object', or something that contains data (*attributes*) and/or functions that it can do (*methods*)"
   ]
  },
  {
   "cell_type": "markdown",
   "metadata": {},
   "source": [
    "### Some of the 'Pros' of Python:\n",
    "1. Designed to be easily readable\n",
    "2. Very quick development time (e.g. Easier to write)\n",
    "3. Works on almost every platform\n",
    "4. Easily scalable (e.g. Can be run on distributed computing environments)\n",
    "5. Efficiently 'glues' other languages and components together\n",
    "6. Very strong Open-source community"
   ]
  },
  {
   "cell_type": "code",
   "execution_count": null,
   "metadata": {},
   "outputs": [],
   "source": [
    "# Zen of Python\n",
    "import this"
   ]
  },
  {
   "cell_type": "markdown",
   "metadata": {},
   "source": [
    "#### Some of the 'Cons' of Python:\n",
    "1. Difficult to parallelize\n",
    "2. Generally slower compared to other languages\n",
    "3. Has a little of a learning curve when specializing in niche areas\n",
    "4. Very strong Open-source community"
   ]
  },
  {
   "cell_type": "markdown",
   "metadata": {},
   "source": [
    "---"
   ]
  },
  {
   "cell_type": "markdown",
   "metadata": {},
   "source": [
    "### How important is readability?"
   ]
  },
  {
   "cell_type": "markdown",
   "metadata": {},
   "source": [
    "![](./figures/paragraph.png)"
   ]
  },
  {
   "cell_type": "markdown",
   "metadata": {},
   "source": [
    "Can you visually tell the separation of thoughts in both of these examples?"
   ]
  },
  {
   "cell_type": "markdown",
   "metadata": {},
   "source": [
    "Everything in Python is grouped by whitespace. Like the 'Reverse Indentation format' example above, blocks of thought/instructions are grouped by indenting."
   ]
  },
  {
   "cell_type": "code",
   "execution_count": null,
   "metadata": {},
   "outputs": [],
   "source": [
    "# An example\n",
    "a_list = list(range(10))\n",
    "\n",
    "for each_item in a_list:\n",
    "    if each_item % 2 == 0: # this is called a modulo: gives the remainder after division\n",
    "        print(each_item, 'is Even')\n",
    "    else:\n",
    "        print(each_item, ' is Odd')\n",
    "else:\n",
    "    print('List Processed')"
   ]
  },
  {
   "cell_type": "markdown",
   "metadata": {},
   "source": [
    "### What does bad code look like?"
   ]
  },
  {
   "cell_type": "markdown",
   "metadata": {},
   "source": [
    "Readability and brevity matter in programming. In [this](./datasets/prog.c) example, you see a clear example of why readability is important. Can you, even as a non-coder, tell me what components of this C program belong to which?"
   ]
  },
  {
   "cell_type": "markdown",
   "metadata": {},
   "source": [
    "And like readability, to the reader of your code, brevity does too. Here is another [example](./datasets/csv_manip.c) of another C program that manipulates a CSV file."
   ]
  },
  {
   "cell_type": "markdown",
   "metadata": {},
   "source": [
    "### What about good-ish code?"
   ]
  },
  {
   "cell_type": "markdown",
   "metadata": {},
   "source": [
    "Here is an [example](./datasets/csc_manip.py) of Python script that does the same thing that the C script does. Both brevity and readability are somewhat present here."
   ]
  },
  {
   "cell_type": "markdown",
   "metadata": {},
   "source": [
    "Think of script like a paper you would write for a journal:\n",
    "\n",
    "| Paper Component | Coding Counterpart |\n",
    "| :-- | :-- |\n",
    "| Nouns | Variables |\n",
    "| Verbs | Operators |\n",
    "| Sentences | Lines |\n",
    "| Paragraphs | Functions |\n",
    "| Sections | Modules |"
   ]
  },
  {
   "cell_type": "markdown",
   "metadata": {},
   "source": [
    "### In Summary"
   ]
  },
  {
   "cell_type": "markdown",
   "metadata": {},
   "source": [
    "Python is a great language for all skill levels. Not only does the readability and ease-of-use help beginners to learn, but also there is a *very* active job market for Python developers in everything from biomedical research to Web Development to Netflix & Disney."
   ]
  },
  {
   "cell_type": "markdown",
   "metadata": {},
   "source": [
    "It is, however, important to say that Python is just a tool...and not the only one. A programming language should be used when it answers a programmatic question you are trying to solve.\n",
    "\n",
    "* For Prototyping and quickly exploring data, R is an easy choice\n",
    "* For high-speed, high-throughput, parallel computing; C/C++ is a great option\n",
    "* For web development or internet facing applications, it is hard to beat JavaScript\n",
    "\n",
    "While Python can do all these things, these others are often better at it."
   ]
  },
  {
   "cell_type": "markdown",
   "metadata": {},
   "source": [
    "---"
   ]
  },
  {
   "cell_type": "markdown",
   "metadata": {},
   "source": [
    "### Exercise"
   ]
  },
  {
   "cell_type": "markdown",
   "metadata": {},
   "source": [
    "Go to [basic_script.py](./basic_script.py), and write your first program."
   ]
  },
  {
   "cell_type": "markdown",
   "metadata": {},
   "source": [
    "Now run you program by running the cell below"
   ]
  },
  {
   "cell_type": "code",
   "execution_count": null,
   "metadata": {},
   "outputs": [],
   "source": [
    "!python basic_script.py"
   ]
  },
  {
   "cell_type": "markdown",
   "metadata": {},
   "source": [
    "This same command can be run from the console/terminal (without the exclamation mark)"
   ]
  },
  {
   "cell_type": "markdown",
   "metadata": {},
   "source": [
    "---"
   ]
  },
  {
   "cell_type": "markdown",
   "metadata": {},
   "source": [
    "### Exploration"
   ]
  },
  {
   "cell_type": "markdown",
   "metadata": {},
   "source": [
    "<center>\n",
    "<img src=\"./figures/Turtle_draw.jpg\" style=\"width:82px; height:86px\" title=\"White flower\" alt=\"Flower\"/>        \n",
    "</center>"
   ]
  },
  {
   "cell_type": "markdown",
   "metadata": {},
   "source": [
    "The next section is all about exploring programming. This classic demonstration is called `turtle`. Think of it as a turtle with a pen on its belly. It can control when the pen is up and down and will draw anything you program it to. However, it only understands very basic commands."
   ]
  },
  {
   "cell_type": "markdown",
   "metadata": {},
   "source": [
    "**Note**: The code in the next cell are called `import` statements. Think of it like going to the library. Before you can read the books, you have to check them out. All `import` statements do is bring in the stuff we will want to use for our program."
   ]
  },
  {
   "cell_type": "code",
   "execution_count": 1,
   "metadata": {},
   "outputs": [],
   "source": [
    "from turtle import *\n",
    "from utils.session1 import *"
   ]
  },
  {
   "cell_type": "markdown",
   "metadata": {},
   "source": [
    "`utils.sesson1` are just some special functions I wrote to make the demonstration go a little easier. If you are curious, go ahead and look at the code [here](./utils/session1.py)."
   ]
  },
  {
   "cell_type": "code",
   "execution_count": 2,
   "metadata": {},
   "outputs": [],
   "source": [
    "# Get the turtle ready\n",
    "start()"
   ]
  },
  {
   "cell_type": "code",
   "execution_count": 3,
   "metadata": {},
   "outputs": [],
   "source": [
    "# A brief demonstration of what the turtle can do\n",
    "demo()"
   ]
  },
  {
   "cell_type": "code",
   "execution_count": 4,
   "metadata": {},
   "outputs": [],
   "source": [
    "# Clear the canvas\n",
    "reset()"
   ]
  },
  {
   "cell_type": "markdown",
   "metadata": {},
   "source": [
    "Put your heads together, and make the turtle draw a square, a triangle, and a circle. "
   ]
  },
  {
   "cell_type": "code",
   "execution_count": null,
   "metadata": {},
   "outputs": [],
   "source": []
  },
  {
   "cell_type": "code",
   "execution_count": 5,
   "metadata": {},
   "outputs": [],
   "source": [
    "# Close the canvas and put the turtle away\n",
    "bye()"
   ]
  },
  {
   "cell_type": "code",
   "execution_count": 2,
   "metadata": {},
   "outputs": [],
   "source": [
    "import os\n",
    "os.getenv('CULL_KERNEL_TIMEOUT')"
   ]
  },
  {
   "cell_type": "code",
   "execution_count": null,
   "metadata": {},
   "outputs": [],
   "source": []
  },
  {
   "cell_type": "code",
   "execution_count": null,
   "metadata": {},
   "outputs": [],
   "source": []
  }
 ],
 "metadata": {
  "kernelspec": {
   "display_name": "Python 3",
   "language": "python",
   "name": "python3"
  },
  "language_info": {
   "codemirror_mode": {
    "name": "ipython",
    "version": 3
   },
   "file_extension": ".py",
   "mimetype": "text/x-python",
   "name": "python",
   "nbconvert_exporter": "python",
   "pygments_lexer": "ipython3",
   "version": "3.6.6"
  }
 },
 "nbformat": 4,
 "nbformat_minor": 2
}
