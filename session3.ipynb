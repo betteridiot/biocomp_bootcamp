{
 "cells": [
  {
   "cell_type": "markdown",
   "metadata": {},
   "source": [
    "# Session III: Control Structures and Functions"
   ]
  },
  {
   "cell_type": "markdown",
   "metadata": {},
   "source": [
    "---\n",
    "### Session II Challenge"
   ]
  },
  {
   "cell_type": "code",
   "execution_count": null,
   "metadata": {},
   "outputs": [],
   "source": [
    "str1 = ')()(())))'\n",
    "str2 = '(()(()('\n",
    "\n",
    "new_strings = [str1 + str2, str2 + str1]\n",
    "\n",
    "balance = None\n",
    "for new_string in new_strings:\n",
    "    # check for closing paranthesis at the beginning\n",
    "    if new_string.startswith(')'):\n",
    "        balance = False\n",
    "        \n",
    "    # check for opening paranthesis at the end\n",
    "    elif new_string.endswith('('):\n",
    "        balance = False\n",
    "    else:\n",
    "        count = 0\n",
    "        for paran in new_string:\n",
    "            if paran == '(':\n",
    "                count += 1\n",
    "            else:\n",
    "                count -= 1\n",
    "                if count < 0:\n",
    "                    # If there are more closing than opening at any point\n",
    "                    # it is unbalanced\n",
    "                    balance = False\n",
    "                    break\n",
    "        if count == 0:\n",
    "            balance = True\n",
    "        else:\n",
    "            balance = False\n",
    "if balance:\n",
    "    print('Balanced')\n",
    "else:\n",
    "    print('Unbalanced')"
   ]
  },
  {
   "cell_type": "markdown",
   "metadata": {},
   "source": [
    "---"
   ]
  },
  {
   "cell_type": "markdown",
   "metadata": {},
   "source": [
    "We will be going over some of the 'anatomy' of a script. Again, keep the following in mind:\n",
    "\n",
    "| Coding Counterpart | Paper Component | \n",
    "| :-- | :-- |\n",
    "| ~~Variables~~ | ~~Nouns~~ | \n",
    "| ~~Operators~~ | ~~Verbs~~ |\n",
    "| ~~Lines~~ | ~~Sentences~~ |\n",
    "| Functions | Paragraphs | \n",
    "| Modules | Sections | "
   ]
  },
  {
   "cell_type": "markdown",
   "metadata": {},
   "source": [
    "---"
   ]
  },
  {
   "cell_type": "markdown",
   "metadata": {},
   "source": [
    "## Control Structures"
   ]
  },
  {
   "cell_type": "markdown",
   "metadata": {},
   "source": [
    "Remeber the paragraph picture earlier?"
   ]
  },
  {
   "cell_type": "markdown",
   "metadata": {},
   "source": [
    "![](./figures/paragraph.png)"
   ]
  },
  {
   "cell_type": "markdown",
   "metadata": {},
   "source": [
    "Let's add some context"
   ]
  },
  {
   "cell_type": "markdown",
   "metadata": {},
   "source": [
    "A **Control Structure** is simpler than it sounds, it *controls* things with its *structure*. Easy, right?"
   ]
  },
  {
   "cell_type": "markdown",
   "metadata": {},
   "source": [
    "In either of the examples above, how can you tell where one paragraph starts and stops?"
   ]
  },
  {
   "cell_type": "markdown",
   "metadata": {},
   "source": []
  },
  {
   "cell_type": "markdown",
   "metadata": {},
   "source": [
    "Control Structures control how the code it is associated with it works by wrapping it within its structure."
   ]
  },
  {
   "cell_type": "markdown",
   "metadata": {},
   "source": [
    "---\n",
    "### Explore\n",
    "Look at the [Challenge](#Session-II-Challenge) again, see if you can identify the different control structures."
   ]
  },
  {
   "cell_type": "markdown",
   "metadata": {},
   "source": []
  },
  {
   "cell_type": "markdown",
   "metadata": {},
   "source": [
    "---"
   ]
  },
  {
   "cell_type": "markdown",
   "metadata": {},
   "source": [
    "### `if`: The simplest control structure"
   ]
  },
  {
   "cell_type": "markdown",
   "metadata": {},
   "source": [
    "`if` statements are meant to check conditions (or heuristics) through the processing of your program. The syntax is as follows:\n",
    "\n",
    "```python\n",
    "if [not] <some condition that returns a boolean>:\n",
    "    do_something()\n",
    "```"
   ]
  },
  {
   "cell_type": "code",
   "execution_count": null,
   "metadata": {},
   "outputs": [],
   "source": [
    "# The setup\n",
    "a_var = True"
   ]
  },
  {
   "cell_type": "code",
   "execution_count": null,
   "metadata": {},
   "outputs": [],
   "source": [
    "# Checking logic\n",
    "if a_var:\n",
    "    print('This is True')\n",
    "\n",
    "# And the opposites\n",
    "if not a_var:\n",
    "    print('This is False')"
   ]
  },
  {
   "cell_type": "markdown",
   "metadata": {},
   "source": [
    "However, since the first check is just the opposite of the second check, we can make this into a morce concise control structure by using the `else` keyward."
   ]
  },
  {
   "cell_type": "code",
   "execution_count": null,
   "metadata": {},
   "outputs": [],
   "source": [
    "if a_var:\n",
    "    print('This is True')\n",
    "else:\n",
    "    print('This is False')"
   ]
  },
  {
   "cell_type": "markdown",
   "metadata": {},
   "source": [
    "But, are the above conditions ***always*** true?"
   ]
  },
  {
   "cell_type": "code",
   "execution_count": null,
   "metadata": {},
   "outputs": [],
   "source": [
    "# Comprehensive if-elif-else statement\n",
    "if a_var:\n",
    "    print('This is True')\n",
    "elif a_var is False:\n",
    "    print('This is False')\n",
    "else:\n",
    "    print('This is not a boolean')"
   ]
  },
  {
   "cell_type": "code",
   "execution_count": null,
   "metadata": {},
   "outputs": [],
   "source": [
    "# Multiple if statements\n",
    "\n",
    "f_name = 'Sharkus'\n",
    "if 'S' in f_name and len(f_name) > 5: # Only goes if BOTH are True\n",
    "    print(f_name)\n",
    "\n",
    "l_name = 'Merman'\n",
    "if not 'S' in l_name or len(l_name) > 5: # Only goes if EITHER are True\n",
    "    print(l_name)"
   ]
  },
  {
   "cell_type": "markdown",
   "metadata": {},
   "source": [
    "---"
   ]
  },
  {
   "cell_type": "markdown",
   "metadata": {},
   "source": [
    "### `for`: The most popular control structure"
   ]
  },
  {
   "cell_type": "markdown",
   "metadata": {},
   "source": [
    "The main keyword to remember here is '**iterate**'. If you want to go through something *one (or more) at a time*, you are going to be **iterating** through it. To do that, we use a `for`-loop"
   ]
  },
  {
   "cell_type": "code",
   "execution_count": null,
   "metadata": {},
   "outputs": [],
   "source": [
    "# Range\n"
   ]
  },
  {
   "cell_type": "code",
   "execution_count": null,
   "metadata": {},
   "outputs": [],
   "source": [
    "# Iterate range\n"
   ]
  },
  {
   "cell_type": "code",
   "execution_count": null,
   "metadata": {},
   "outputs": [],
   "source": [
    "# Iterate a list of names\n"
   ]
  },
  {
   "cell_type": "code",
   "execution_count": null,
   "metadata": {},
   "outputs": [],
   "source": [
    "# Iterate a string\n"
   ]
  },
  {
   "cell_type": "markdown",
   "metadata": {},
   "source": [
    "What, do you think, is the potential downside to `for`-loops?"
   ]
  },
  {
   "cell_type": "markdown",
   "metadata": {},
   "source": [
    "---"
   ]
  },
  {
   "cell_type": "markdown",
   "metadata": {},
   "source": [
    "### `while`: The most improperly used control structure"
   ]
  },
  {
   "cell_type": "markdown",
   "metadata": {},
   "source": [
    "A `while` loop is just a `for`-loop that continues until a condition is met.\n",
    "\n",
    "**Careful**: `while` loops are one of the easiest ways to cause an 'infinite loop'"
   ]
  },
  {
   "cell_type": "code",
   "execution_count": 22,
   "metadata": {},
   "outputs": [],
   "source": [
    "from random import choice"
   ]
  },
  {
   "cell_type": "code",
   "execution_count": null,
   "metadata": {},
   "outputs": [],
   "source": [
    "# while counting\n",
    "counter = 0\n",
    "while counter <= 5:\n",
    "    print('The counter is at '+ str(counter))\n",
    "    counter += 1"
   ]
  },
  {
   "cell_type": "code",
   "execution_count": null,
   "metadata": {},
   "outputs": [],
   "source": [
    "# while booelan\n",
    "done_status = False\n",
    "while not done_status:\n",
    "    flip = choice([0,1])\n",
    "    if flip:\n",
    "        print('Heads, I win')\n",
    "        done_status = flip\n",
    "    else:\n",
    "        print('Tails, you lose')"
   ]
  },
  {
   "cell_type": "markdown",
   "metadata": {},
   "source": [
    "Below is an example of a situation that would cause an infinite loop. I purposely made it a non-coding cell so that you don't accidentally run it. Think about why this would run on forever."
   ]
  },
  {
   "cell_type": "markdown",
   "metadata": {},
   "source": [
    "```python\n",
    "# Infinite loop\n",
    "while True:\n",
    "    print('Hello, World')\n",
    "```"
   ]
  },
  {
   "cell_type": "markdown",
   "metadata": {},
   "source": [
    "---"
   ]
  },
  {
   "cell_type": "markdown",
   "metadata": {},
   "source": [
    "### `with`: A context manager"
   ]
  },
  {
   "cell_type": "markdown",
   "metadata": {},
   "source": [
    "`with` statements aren't *really* control structures. They are called **context managers**. However, they work in much the same way as a control structure: everything indented underneath it, belongs to it.\n",
    "\n",
    "The special part about `with` statements is when they are paired with I/O."
   ]
  },
  {
   "cell_type": "code",
   "execution_count": null,
   "metadata": {},
   "outputs": [],
   "source": [
    "with open('./datasets/weather.tsv') as weather:\n",
    "    for i in range(5):\n",
    "        line = weather.readline().strip().split('\\t')\n",
    "        print(line)"
   ]
  },
  {
   "cell_type": "markdown",
   "metadata": {},
   "source": [
    "What happens is that the file is opened and processed. However, unlike normal, as soon as you exit the `with` statement, it **automatically** closes the file for you."
   ]
  },
  {
   "cell_type": "markdown",
   "metadata": {},
   "source": [
    "---"
   ]
  },
  {
   "cell_type": "markdown",
   "metadata": {},
   "source": [
    "## Functions"
   ]
  },
  {
   "cell_type": "markdown",
   "metadata": {},
   "source": [
    "Think of functions like the paragraphs of a paper. They start with a purpose (definition). They often require some background (arguments). They need evidence & explanation (code). And, they link to the next idea (returned data)."
   ]
  },
  {
   "cell_type": "markdown",
   "metadata": {},
   "source": [
    "Additionally, functions are the easiest way to be efficiently lazy."
   ]
  },
  {
   "cell_type": "markdown",
   "metadata": {},
   "source": [
    "#### Exercise"
   ]
  },
  {
   "cell_type": "markdown",
   "metadata": {},
   "source": [
    "Q. How do you eat an elephant?<br/>\n",
    "A. One bite at a time"
   ]
  },
  {
   "cell_type": "code",
   "execution_count": null,
   "metadata": {},
   "outputs": [],
   "source": [
    "elephant = 100\n",
    "bite = -1\n",
    "\n",
    "# Eat the elephant\n"
   ]
  },
  {
   "cell_type": "markdown",
   "metadata": {},
   "source": [
    "#### Function Syntax"
   ]
  },
  {
   "cell_type": "markdown",
   "metadata": {},
   "source": [
    "```python\n",
    "def function_name(func_arg1, func_arg2, func_kwarg=None):\n",
    "    some_function_code = func_arg1 + func_arg2\n",
    "    if some_function_code > 0:\n",
    "        return func_kwarg\n",
    "    else:\n",
    "        return some_function_code\n",
    "```"
   ]
  },
  {
   "cell_type": "markdown",
   "metadata": {},
   "source": [
    "* Each function should have a name. This is declared by using the `def` keyword\n",
    "* A function doesn't need to have arguments to work\n",
    "* The collection of arguments for a given function is called a **signature**\n",
    "* The function works within its own ***scope*** unless it is using something that was passed to it or is global\n",
    "* `return` statments exit the function while passing on the data\n",
    "* Defining a function does not run a function. It must be called using `([args])` after the function name"
   ]
  },
  {
   "cell_type": "code",
   "execution_count": null,
   "metadata": {},
   "outputs": [],
   "source": [
    "# scope example\n",
    "\n",
    "spam = 42\n",
    "\n",
    "def spam_alot(spam):\n",
    "    spam = spam * spam\n",
    "    return spam"
   ]
  },
  {
   "cell_type": "markdown",
   "metadata": {},
   "source": [
    "---\n",
    "What is the original value of spam?"
   ]
  },
  {
   "cell_type": "code",
   "execution_count": null,
   "metadata": {},
   "outputs": [],
   "source": [
    "print(f'Staring value of spam: {spam}')"
   ]
  },
  {
   "cell_type": "markdown",
   "metadata": {},
   "source": [
    "---\n",
    "What is the value of spam now?"
   ]
  },
  {
   "cell_type": "code",
   "execution_count": null,
   "metadata": {},
   "outputs": [],
   "source": [
    "print(f'spam_alot spam: {spam_alot(spam)}')"
   ]
  },
  {
   "cell_type": "markdown",
   "metadata": {},
   "source": [
    "---\n",
    "Care to take a guess?"
   ]
  },
  {
   "cell_type": "code",
   "execution_count": null,
   "metadata": {},
   "outputs": [],
   "source": [
    "print(f'Final value of spam: {spam}')"
   ]
  },
  {
   "cell_type": "markdown",
   "metadata": {},
   "source": [
    "After seeing this example, can anyone describe scope?"
   ]
  },
  {
   "cell_type": "markdown",
   "metadata": {},
   "source": [
    "---"
   ]
  },
  {
   "cell_type": "markdown",
   "metadata": {},
   "source": [
    "## Challenge"
   ]
  },
  {
   "cell_type": "markdown",
   "metadata": {},
   "source": [
    "Use [this](./basic_template.py) template script, and modify it so that will take in 2 arguments (look for the part about `sys.argv`):\n",
    "1. navi_age (int): the age of the navigator\n",
    "2. driver_age (int): the age of the driver\n",
    "3. compare the two and print out the difference of age in years between the two\n",
    "\n",
    "When you are done, save the script and click on the Launcher tab (or the '+' button above the file explorer) and select 'Terminal'. check to see if it runs by typing:\n",
    "\n",
    "```bash\n",
    "python basic_template.py 9001 19\n",
    "```"
   ]
  },
  {
   "cell_type": "code",
   "execution_count": null,
   "metadata": {},
   "outputs": [],
   "source": []
  }
 ],
 "metadata": {
  "kernelspec": {
   "display_name": "Python 3",
   "language": "python",
   "name": "python3"
  },
  "language_info": {
   "codemirror_mode": {
    "name": "ipython",
    "version": 3
   },
   "file_extension": ".py",
   "mimetype": "text/x-python",
   "name": "python",
   "nbconvert_exporter": "python",
   "pygments_lexer": "ipython3",
   "version": "3.6.6"
  }
 },
 "nbformat": 4,
 "nbformat_minor": 2
}
