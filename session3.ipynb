{
 "cells": [
  {
   "cell_type": "markdown",
   "metadata": {},
   "source": [
    "# Session III: Control Structures and Functions"
   ]
  },
  {
   "cell_type": "markdown",
   "metadata": {},
   "source": [
    "---\n",
    "### Session II Challenge"
   ]
  },
  {
   "cell_type": "code",
   "execution_count": null,
   "metadata": {},
   "outputs": [],
   "source": [
    "str1 = ')()(())))'\n",
    "str2 = '(()(()('\n",
    "\n",
    "new_strings = [str1 + str2, str2 + str1]\n",
    "\n",
    "balance = None\n",
    "for new_string in new_strings:\n",
    "    # check for closing paranthesis at the beginning\n",
    "    if new_string.startswith(')'):\n",
    "        balance = False\n",
    "        \n",
    "    # check for opening paranthesis at the end\n",
    "    elif new_string.endswith('('):\n",
    "        balance = False\n",
    "    else:\n",
    "        count = 0\n",
    "        for paran in new_string:\n",
    "            if paran == '(':\n",
    "                count += 1\n",
    "            else:\n",
    "                count -= 1\n",
    "                if count < 0:\n",
    "                    # If there are more closing than opening at any point\n",
    "                    # it is unbalanced\n",
    "                    balance = False\n",
    "                    break\n",
    "        if count == 0:\n",
    "            balance = True\n",
    "        else:\n",
    "            balance = False\n",
    "if balance:\n",
    "    print('Balanced')\n",
    "else:\n",
    "    print('Unbalanced')"
   ]
  },
  {
   "cell_type": "markdown",
   "metadata": {},
   "source": [
    "---"
   ]
  },
  {
   "cell_type": "markdown",
   "metadata": {},
   "source": [
    "We will be going over some of the 'anatomy' of a script. Again, keep the following in mind:\n",
    "\n",
    "| Coding Counterpart | Paper Component | \n",
    "| :-- | :-- |\n",
    "| ~~Variables~~ | ~~Nouns~~ | \n",
    "| ~~Operators~~ | ~~Verbs~~ |\n",
    "| ~~Lines~~ | ~~Sentences~~ |\n",
    "| Functions | Paragraphs | \n",
    "| Modules | Sections | "
   ]
  },
  {
   "cell_type": "markdown",
   "metadata": {},
   "source": [
    "---"
   ]
  },
  {
   "cell_type": "markdown",
   "metadata": {},
   "source": [
    "## Control Structures"
   ]
  },
  {
   "cell_type": "markdown",
   "metadata": {},
   "source": [
    "Remeber the paragraph picture earlier?"
   ]
  },
  {
   "cell_type": "markdown",
   "metadata": {},
   "source": [
    "![](./figures/paragraph.png)"
   ]
  },
  {
   "cell_type": "markdown",
   "metadata": {},
   "source": [
    "Let's add some context"
   ]
  },
  {
   "cell_type": "markdown",
   "metadata": {},
   "source": [
    "A **Control Structure** is simpler than it sounds, it *controls* things with its *structure*. Easy, right?"
   ]
  },
  {
   "cell_type": "markdown",
   "metadata": {},
   "source": [
    "In either of the examples above, how can you tell where one paragraph starts and stops?"
   ]
  },
  {
   "cell_type": "markdown",
   "metadata": {},
   "source": []
  },
  {
   "cell_type": "markdown",
   "metadata": {},
   "source": [
    "Control Structures control how the code it is associated with it works by wrapping it within its structure."
   ]
  },
  {
   "cell_type": "markdown",
   "metadata": {},
   "source": [
    "---\n",
    "### Explore\n",
    "Look at the [Challenge](#Session-II-Challenge) again, see if you can identify the different control structures."
   ]
  },
  {
   "cell_type": "markdown",
   "metadata": {},
   "source": [
    "  line 9\n",
    "  line 27\n",
    "  line 31"
   ]
  },
  {
   "cell_type": "markdown",
   "metadata": {},
   "source": [
    "---"
   ]
  },
  {
   "cell_type": "markdown",
   "metadata": {},
   "source": [
    "### `if`: The simplest control structure"
   ]
  },
  {
   "cell_type": "markdown",
   "metadata": {},
   "source": [
    "`if` statements are meant to check conditions (or heuristics) through the processing of your program. The syntax is as follows:\n",
    "\n",
    "```python\n",
    "if [not] <some condition that returns a boolean>:\n",
    "    do_something()\n",
    "```"
   ]
  },
  {
   "cell_type": "code",
   "execution_count": 7,
   "metadata": {},
   "outputs": [],
   "source": [
    "# The setup\n",
    "a_var = None"
   ]
  },
  {
   "cell_type": "code",
   "execution_count": 4,
   "metadata": {},
   "outputs": [
    {
     "name": "stdout",
     "output_type": "stream",
     "text": [
      "This is False\n"
     ]
    }
   ],
   "source": [
    "# Checking logic\n",
    "if a_var:\n",
    "    print('This is True')\n",
    "\n",
    "# And the opposites\n",
    "if not a_var:\n",
    "    print('This is False')"
   ]
  },
  {
   "cell_type": "markdown",
   "metadata": {},
   "source": [
    "However, since the first check is just the opposite of the second check, we can make this into a morce concise control structure by using the `else` keyward."
   ]
  },
  {
   "cell_type": "code",
   "execution_count": 8,
   "metadata": {},
   "outputs": [
    {
     "name": "stdout",
     "output_type": "stream",
     "text": [
      "This is False\n"
     ]
    }
   ],
   "source": [
    "if a_var:\n",
    "    print('This is True')\n",
    "else:\n",
    "    print('This is False')"
   ]
  },
  {
   "cell_type": "markdown",
   "metadata": {},
   "source": [
    "But, are the above conditions ***always*** true?"
   ]
  },
  {
   "cell_type": "code",
   "execution_count": 9,
   "metadata": {},
   "outputs": [
    {
     "name": "stdout",
     "output_type": "stream",
     "text": [
      "This is not a boolean\n"
     ]
    }
   ],
   "source": [
    "# Comprehensive if-elif-else statement\n",
    "if a_var:\n",
    "    print('This is True')\n",
    "elif a_var is False:\n",
    "    print('This is False')\n",
    "else:\n",
    "    print('This is not a boolean')"
   ]
  },
  {
   "cell_type": "code",
   "execution_count": 12,
   "metadata": {},
   "outputs": [
    {
     "name": "stdout",
     "output_type": "stream",
     "text": [
      "Sharkus\n"
     ]
    }
   ],
   "source": [
    "# Multiple if statements\n",
    "\n",
    "f_name = 'Sharkus'\n",
    "if 'S' in f_name and len(f_name) > 5: # Only goes if BOTH are True\n",
    "    print(f_name)\n",
    "\n",
    "l_name = 'Merma'\n",
    "if 'S' in l_name or len(l_name) > 5: # Only goes if EITHER are True\n",
    "    print(l_name)"
   ]
  },
  {
   "cell_type": "markdown",
   "metadata": {},
   "source": [
    "#### Exercise"
   ]
  },
  {
   "cell_type": "markdown",
   "metadata": {},
   "source": [
    "Write an `if-else` control structure that outputs the name of whomever person in your pair has a longer name"
   ]
  },
  {
   "cell_type": "code",
   "execution_count": 15,
   "metadata": {},
   "outputs": [
    {
     "name": "stdout",
     "output_type": "stream",
     "text": [
      "Laurie\n"
     ]
    }
   ],
   "source": [
    "d_name = 'Kari'\n",
    "n_name = 'Laurie'\n",
    "\n",
    "if len(d_name) == len(n_name):\n",
    "    print('Twins!!!')\n",
    "elif len(d_name) > len(n_name):\n",
    "    print(d_name)\n",
    "else:\n",
    "    print(n_name)"
   ]
  },
  {
   "cell_type": "markdown",
   "metadata": {},
   "source": [
    "---"
   ]
  },
  {
   "cell_type": "markdown",
   "metadata": {},
   "source": [
    "### `for`: The most popular control structure"
   ]
  },
  {
   "cell_type": "markdown",
   "metadata": {},
   "source": [
    "The main keyword to remember here is '**iterate**'. If you want to go through something *one (or more) at a time*, you are going to be **iterating** through it. To do that, we use a `for`-loop"
   ]
  },
  {
   "cell_type": "code",
   "execution_count": 13,
   "metadata": {},
   "outputs": [
    {
     "name": "stdout",
     "output_type": "stream",
     "text": [
      "0\n",
      "1\n",
      "2\n",
      "3\n",
      "4\n",
      "5\n",
      "6\n",
      "7\n",
      "8\n"
     ]
    }
   ],
   "source": [
    "# Range\n",
    "for item in range(9):\n",
    "    print(item)"
   ]
  },
  {
   "cell_type": "code",
   "execution_count": 17,
   "metadata": {},
   "outputs": [
    {
     "name": "stdout",
     "output_type": "stream",
     "text": [
      "Ah! The element of surprise\n"
     ]
    }
   ],
   "source": [
    "# Iterate range\n",
    "for i in range(len(d_name)):\n",
    "    if d_name[i] == n_name[i]:\n",
    "        print('Ah! The element of surprise')"
   ]
  },
  {
   "cell_type": "code",
   "execution_count": 19,
   "metadata": {},
   "outputs": [
    {
     "name": "stdout",
     "output_type": "stream",
     "text": [
      "kari k\n",
      "kari a\n",
      "kari r\n",
      "kari i\n",
      "laurie l\n",
      "laurie a\n",
      "laurie u\n",
      "laurie r\n",
      "laurie i\n",
      "laurie e\n",
      "michael m\n",
      "michael i\n",
      "michael c\n",
      "michael h\n",
      "michael a\n",
      "michael e\n",
      "michael l\n",
      "josh j\n",
      "josh o\n",
      "josh s\n",
      "josh h\n"
     ]
    }
   ],
   "source": [
    "# Iterate a list of names\n",
    "names = ['kari', 'laurie', 'michael', 'josh']\n",
    "for blah in names:\n",
    "    for letter in blah:\n",
    "        print(blah, letter)"
   ]
  },
  {
   "cell_type": "code",
   "execution_count": 20,
   "metadata": {},
   "outputs": [
    {
     "name": "stdout",
     "output_type": "stream",
     "text": [
      "H\n",
      "e\n",
      "l\n",
      "l\n",
      "o\n",
      ",\n",
      " \n",
      "W\n",
      "o\n",
      "r\n",
      "l\n",
      "d\n"
     ]
    }
   ],
   "source": [
    "# Iterate a string\n",
    "for letter in 'Hello, World':\n",
    "    print(letter)"
   ]
  },
  {
   "cell_type": "markdown",
   "metadata": {},
   "source": [
    "#### Exercise"
   ]
  },
  {
   "cell_type": "markdown",
   "metadata": {},
   "source": [
    "Codons are sequences of three nucleotides (nt). The nts are 'A', 'C', 'G', 'T'.\n",
    "\n",
    "Write a nested `for-loop` that outputs all possible combinations of codons."
   ]
  },
  {
   "cell_type": "code",
   "execution_count": 23,
   "metadata": {},
   "outputs": [
    {
     "data": {
      "text/plain": [
       "64"
      ]
     },
     "execution_count": 23,
     "metadata": {},
     "output_type": "execute_result"
    }
   ],
   "source": [
    "nts = [] \n",
    "for nucleotide in 'ACTG':\n",
    "    for nucleotide2 in 'ACTG':\n",
    "        for nucleotide3 in 'ACTG':\n",
    "            nts.append((nucleotide, nucleotide2, nucleotide3))\n",
    "len(nts)"
   ]
  },
  {
   "cell_type": "markdown",
   "metadata": {},
   "source": [
    "What, do you think, is the potential downside to `for`-loops?"
   ]
  },
  {
   "cell_type": "markdown",
   "metadata": {},
   "source": [
    "---"
   ]
  },
  {
   "cell_type": "markdown",
   "metadata": {},
   "source": [
    "### `while`: The most improperly used control structure"
   ]
  },
  {
   "cell_type": "markdown",
   "metadata": {},
   "source": [
    "A `while` loop is just a `for`-loop that continues until a condition is met.\n",
    "\n",
    "**Careful**: `while` loops are one of the easiest ways to cause an 'infinite loop'"
   ]
  },
  {
   "cell_type": "code",
   "execution_count": 26,
   "metadata": {},
   "outputs": [],
   "source": [
    "from random import choice"
   ]
  },
  {
   "cell_type": "code",
   "execution_count": 24,
   "metadata": {},
   "outputs": [
    {
     "name": "stdout",
     "output_type": "stream",
     "text": [
      "The counter is at 0\n",
      "The counter is at 1\n",
      "The counter is at 2\n",
      "The counter is at 3\n",
      "The counter is at 4\n",
      "The counter is at 5\n"
     ]
    }
   ],
   "source": [
    "# while counting\n",
    "counter = 0\n",
    "while counter <= 5:\n",
    "    print('The counter is at '+ str(counter))\n",
    "    counter += 1"
   ]
  },
  {
   "cell_type": "code",
   "execution_count": 27,
   "metadata": {},
   "outputs": [
    {
     "name": "stdout",
     "output_type": "stream",
     "text": [
      "Tails, you lose\n",
      "Tails, you lose\n",
      "Tails, you lose\n",
      "Tails, you lose\n",
      "Tails, you lose\n",
      "Heads, I win\n"
     ]
    }
   ],
   "source": [
    "# while booelan\n",
    "done_status = False\n",
    "while not done_status:\n",
    "    flip = choice([0,1])\n",
    "    if flip:\n",
    "        print('Heads, I win')\n",
    "        done_status = flip\n",
    "    else:\n",
    "        print('Tails, you lose')"
   ]
  },
  {
   "cell_type": "markdown",
   "metadata": {},
   "source": [
    "Below is an example of a situation that would cause an infinite loop. I purposely made it a non-coding cell so that you don't accidentally run it. Think about why this would run on forever."
   ]
  },
  {
   "cell_type": "markdown",
   "metadata": {},
   "source": [
    "```python\n",
    "# Infinite loop\n",
    "while True:\n",
    "    print('Hello, World')\n",
    "```"
   ]
  },
  {
   "cell_type": "markdown",
   "metadata": {},
   "source": [
    "---"
   ]
  },
  {
   "cell_type": "markdown",
   "metadata": {},
   "source": [
    "### `with`: A context manager"
   ]
  },
  {
   "cell_type": "markdown",
   "metadata": {},
   "source": [
    "`with` statements aren't *really* control structures. They are called **context managers**. However, they work in much the same way as a control structure: everything indented underneath it, belongs to it.\n",
    "\n",
    "The special part about `with` statements is when they are paired with I/O."
   ]
  },
  {
   "cell_type": "code",
   "execution_count": 28,
   "metadata": {},
   "outputs": [
    {
     "name": "stdout",
     "output_type": "stream",
     "text": [
      "['#', 'Name', 'Type 1', 'Type 2', 'Total', 'HP', 'Attack', 'Defense', 'Sp. Atk', 'Sp. Def', 'Speed', 'Generation', 'Legendary']\n",
      "['1', 'Bulbasaur', 'Grass', 'Poison', '318', '45', '49', '49', '65', '65', '45', '1', 'False']\n",
      "['2', 'Ivysaur', 'Grass', 'Poison', '405', '60', '62', '63', '80', '80', '60', '1', 'False']\n",
      "['3', 'Venusaur', 'Grass', 'Poison', '525', '80', '82', '83', '100', '100', '80', '1', 'False']\n",
      "['3', 'VenusaurMega Venusaur', 'Grass', 'Poison', '625', '80', '100', '123', '122', '120', '80', '1', 'False']\n"
     ]
    }
   ],
   "source": [
    "with open('./datasets/pokemon.csv') as poke:\n",
    "    for i in range(5):\n",
    "        line = poke.readline().strip().split(',')\n",
    "        print(line)"
   ]
  },
  {
   "cell_type": "markdown",
   "metadata": {},
   "source": [
    "What happens is that the file is opened and processed. However, unlike normal, as soon as you exit the `with` statement, it **automatically** closes the file for you."
   ]
  },
  {
   "cell_type": "markdown",
   "metadata": {},
   "source": [
    "---"
   ]
  },
  {
   "cell_type": "markdown",
   "metadata": {},
   "source": [
    "## Functions"
   ]
  },
  {
   "cell_type": "markdown",
   "metadata": {},
   "source": [
    "Think of functions like the paragraphs of a paper. They start with a purpose (definition). They often require some background (arguments). They need evidence & explanation (code). And, they link to the next idea (returned data)."
   ]
  },
  {
   "cell_type": "markdown",
   "metadata": {},
   "source": [
    "Additionally, functions are the easiest way to be efficiently lazy."
   ]
  },
  {
   "cell_type": "markdown",
   "metadata": {},
   "source": [
    "#### Exercise"
   ]
  },
  {
   "cell_type": "markdown",
   "metadata": {},
   "source": [
    "Q. How do you eat an elephant?<br/>\n",
    "A. One bite at a time"
   ]
  },
  {
   "cell_type": "code",
   "execution_count": 29,
   "metadata": {},
   "outputs": [
    {
     "name": "stdout",
     "output_type": "stream",
     "text": [
      "NomNom\n",
      "99% of the elephant is left.\n",
      "NomNom\n",
      "98% of the elephant is left.\n",
      "NomNom\n",
      "97% of the elephant is left.\n",
      "NomNom\n",
      "96% of the elephant is left.\n",
      "NomNom\n",
      "95% of the elephant is left.\n",
      "NomNom\n",
      "94% of the elephant is left.\n",
      "NomNom\n",
      "93% of the elephant is left.\n",
      "NomNom\n",
      "92% of the elephant is left.\n",
      "NomNom\n",
      "91% of the elephant is left.\n",
      "NomNom\n",
      "90% of the elephant is left.\n",
      "NomNom\n",
      "89% of the elephant is left.\n",
      "NomNom\n",
      "88% of the elephant is left.\n",
      "NomNom\n",
      "87% of the elephant is left.\n",
      "NomNom\n",
      "86% of the elephant is left.\n",
      "NomNom\n",
      "85% of the elephant is left.\n",
      "NomNom\n",
      "84% of the elephant is left.\n",
      "NomNom\n",
      "83% of the elephant is left.\n",
      "NomNom\n",
      "82% of the elephant is left.\n",
      "NomNom\n",
      "81% of the elephant is left.\n",
      "NomNom\n",
      "80% of the elephant is left.\n",
      "NomNom\n",
      "79% of the elephant is left.\n",
      "NomNom\n",
      "78% of the elephant is left.\n",
      "NomNom\n",
      "77% of the elephant is left.\n",
      "NomNom\n",
      "76% of the elephant is left.\n",
      "NomNom\n",
      "75% of the elephant is left.\n",
      "NomNom\n",
      "74% of the elephant is left.\n",
      "NomNom\n",
      "73% of the elephant is left.\n",
      "NomNom\n",
      "72% of the elephant is left.\n",
      "NomNom\n",
      "71% of the elephant is left.\n",
      "NomNom\n",
      "70% of the elephant is left.\n",
      "NomNom\n",
      "69% of the elephant is left.\n",
      "NomNom\n",
      "68% of the elephant is left.\n",
      "NomNom\n",
      "67% of the elephant is left.\n",
      "NomNom\n",
      "66% of the elephant is left.\n",
      "NomNom\n",
      "65% of the elephant is left.\n",
      "NomNom\n",
      "64% of the elephant is left.\n",
      "NomNom\n",
      "63% of the elephant is left.\n",
      "NomNom\n",
      "62% of the elephant is left.\n",
      "NomNom\n",
      "61% of the elephant is left.\n",
      "NomNom\n",
      "60% of the elephant is left.\n",
      "NomNom\n",
      "59% of the elephant is left.\n",
      "NomNom\n",
      "58% of the elephant is left.\n",
      "NomNom\n",
      "57% of the elephant is left.\n",
      "NomNom\n",
      "56% of the elephant is left.\n",
      "NomNom\n",
      "55% of the elephant is left.\n",
      "NomNom\n",
      "54% of the elephant is left.\n",
      "NomNom\n",
      "53% of the elephant is left.\n",
      "NomNom\n",
      "52% of the elephant is left.\n",
      "NomNom\n",
      "51% of the elephant is left.\n",
      "NomNom\n",
      "50% of the elephant is left.\n",
      "NomNom\n",
      "49% of the elephant is left.\n",
      "NomNom\n",
      "48% of the elephant is left.\n",
      "NomNom\n",
      "47% of the elephant is left.\n",
      "NomNom\n",
      "46% of the elephant is left.\n",
      "NomNom\n",
      "45% of the elephant is left.\n",
      "NomNom\n",
      "44% of the elephant is left.\n",
      "NomNom\n",
      "43% of the elephant is left.\n",
      "NomNom\n",
      "42% of the elephant is left.\n",
      "NomNom\n",
      "41% of the elephant is left.\n",
      "NomNom\n",
      "40% of the elephant is left.\n",
      "NomNom\n",
      "39% of the elephant is left.\n",
      "NomNom\n",
      "38% of the elephant is left.\n",
      "NomNom\n",
      "37% of the elephant is left.\n",
      "NomNom\n",
      "36% of the elephant is left.\n",
      "NomNom\n",
      "35% of the elephant is left.\n",
      "NomNom\n",
      "34% of the elephant is left.\n",
      "NomNom\n",
      "33% of the elephant is left.\n",
      "NomNom\n",
      "32% of the elephant is left.\n",
      "NomNom\n",
      "31% of the elephant is left.\n",
      "NomNom\n",
      "30% of the elephant is left.\n",
      "NomNom\n",
      "29% of the elephant is left.\n",
      "NomNom\n",
      "28% of the elephant is left.\n",
      "NomNom\n",
      "27% of the elephant is left.\n",
      "NomNom\n",
      "26% of the elephant is left.\n",
      "NomNom\n",
      "25% of the elephant is left.\n",
      "NomNom\n",
      "24% of the elephant is left.\n",
      "NomNom\n",
      "23% of the elephant is left.\n",
      "NomNom\n",
      "22% of the elephant is left.\n",
      "NomNom\n",
      "21% of the elephant is left.\n",
      "NomNom\n",
      "20% of the elephant is left.\n",
      "NomNom\n",
      "19% of the elephant is left.\n",
      "NomNom\n",
      "18% of the elephant is left.\n",
      "NomNom\n",
      "17% of the elephant is left.\n",
      "NomNom\n",
      "16% of the elephant is left.\n",
      "NomNom\n",
      "15% of the elephant is left.\n",
      "NomNom\n",
      "14% of the elephant is left.\n",
      "NomNom\n",
      "13% of the elephant is left.\n",
      "NomNom\n",
      "12% of the elephant is left.\n",
      "NomNom\n",
      "11% of the elephant is left.\n",
      "NomNom\n",
      "10% of the elephant is left.\n",
      "NomNom\n",
      "9% of the elephant is left.\n",
      "NomNom\n",
      "8% of the elephant is left.\n",
      "NomNom\n",
      "7% of the elephant is left.\n",
      "NomNom\n",
      "6% of the elephant is left.\n",
      "NomNom\n",
      "5% of the elephant is left.\n",
      "NomNom\n",
      "4% of the elephant is left.\n",
      "NomNom\n",
      "3% of the elephant is left.\n",
      "NomNom\n",
      "2% of the elephant is left.\n",
      "NomNom\n",
      "1% of the elephant is left.\n",
      "NomNom\n",
      "0% of the elephant is left.\n"
     ]
    }
   ],
   "source": [
    "elephant = 100\n",
    "bite = 1\n",
    "\n",
    "# Eat the elephant\n",
    "def eat_elephant(an_elephant):\n",
    "    while an_elephant:\n",
    "        print('NomNom')\n",
    "        an_elephant -= 1\n",
    "        print(str(an_elephant) + '% of the elephant is left.')\n",
    "    return None\n",
    "\n",
    "eat_elephant(elephant)"
   ]
  },
  {
   "cell_type": "markdown",
   "metadata": {},
   "source": [
    "#### Function Syntax"
   ]
  },
  {
   "cell_type": "markdown",
   "metadata": {},
   "source": [
    "```python\n",
    "def function_name(func_arg1, func_arg2, func_kwarg=None):\n",
    "    some_function_code = func_arg1 + func_arg2\n",
    "    if some_function_code > 0:\n",
    "        return func_kwarg\n",
    "    else:\n",
    "        return some_function_code\n",
    "```"
   ]
  },
  {
   "cell_type": "markdown",
   "metadata": {},
   "source": [
    "* Each function should have a name. This is declared by using the `def` keyword\n",
    "* A function doesn't need to have arguments to work\n",
    "* The collection of arguments for a given function is called a **signature**\n",
    "* The function works within its own ***scope*** unless it is using something that was passed to it or is global\n",
    "* `return` statments exit the function while passing on the data\n",
    "* Defining a function does not run a function. It must be called using `([args])` after the function name"
   ]
  },
  {
   "cell_type": "code",
   "execution_count": 30,
   "metadata": {},
   "outputs": [],
   "source": [
    "# scope example\n",
    "\n",
    "spam = 42\n",
    "\n",
    "def spam_alot(spam):\n",
    "    spam = spam * spam\n",
    "    return spam"
   ]
  },
  {
   "cell_type": "markdown",
   "metadata": {},
   "source": [
    "---\n",
    "What is the original value of spam?"
   ]
  },
  {
   "cell_type": "code",
   "execution_count": 31,
   "metadata": {},
   "outputs": [
    {
     "name": "stdout",
     "output_type": "stream",
     "text": [
      "Staring value of spam: 42\n"
     ]
    }
   ],
   "source": [
    "print(f'Staring value of spam: {spam}')"
   ]
  },
  {
   "cell_type": "markdown",
   "metadata": {},
   "source": [
    "---\n",
    "What is the value of spam now?"
   ]
  },
  {
   "cell_type": "code",
   "execution_count": 32,
   "metadata": {},
   "outputs": [
    {
     "name": "stdout",
     "output_type": "stream",
     "text": [
      "spam_alot spam: 1764\n"
     ]
    }
   ],
   "source": [
    "print(f'spam_alot spam: {spam_alot(spam)}')"
   ]
  },
  {
   "cell_type": "markdown",
   "metadata": {},
   "source": [
    "---\n",
    "Care to take a guess?"
   ]
  },
  {
   "cell_type": "code",
   "execution_count": 49,
   "metadata": {},
   "outputs": [
    {
     "name": "stdout",
     "output_type": "stream",
     "text": [
      "Final value of spam: 42\n"
     ]
    }
   ],
   "source": [
    "print(f'Final value of spam: {spam}')"
   ]
  },
  {
   "cell_type": "markdown",
   "metadata": {},
   "source": [
    "After seeing this example, can anyone describe scope?"
   ]
  },
  {
   "cell_type": "markdown",
   "metadata": {},
   "source": [
    "---"
   ]
  },
  {
   "cell_type": "markdown",
   "metadata": {},
   "source": [
    "## Challenge"
   ]
  },
  {
   "cell_type": "markdown",
   "metadata": {},
   "source": [
    "Use [this](./basic_template.py) template script, and modify it so that will take in 2 arguments (look for the part about `sys.argv`):\n",
    "1. navi_age (int): the age of the navigator\n",
    "2. driver_age (int): the age of the driver\n",
    "3. compare the two and print out the difference of age in years between the two\n",
    "\n",
    "When you are done, save the script and click on the Launcher tab (or the '+' button above the file explorer) and select 'Terminal'. check to see if it runs by typing:\n",
    "\n",
    "```bash\n",
    "python basic_template.py 9001 19\n",
    "```"
   ]
  },
  {
   "cell_type": "code",
   "execution_count": null,
   "metadata": {},
   "outputs": [],
   "source": []
  }
 ],
 "metadata": {
  "kernelspec": {
   "display_name": "Python 3",
   "language": "python",
   "name": "python3"
  },
  "language_info": {
   "codemirror_mode": {
    "name": "ipython",
    "version": 3
   },
   "file_extension": ".py",
   "mimetype": "text/x-python",
   "name": "python",
   "nbconvert_exporter": "python",
   "pygments_lexer": "ipython3",
   "version": "3.6.6"
  }
 },
 "nbformat": 4,
 "nbformat_minor": 2
}
