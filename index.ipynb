{
 "cells": [
  {
   "cell_type": "markdown",
   "metadata": {},
   "source": [
    "# Day 2: Introduction to Programming"
   ]
  },
  {
   "cell_type": "markdown",
   "metadata": {},
   "source": [
    "### Instructor: Marcus D. Sherman"
   ]
  },
  {
   "cell_type": "code",
   "execution_count": 17,
   "metadata": {},
   "outputs": [
    {
     "name": "stdout",
     "output_type": "stream",
     "text": [
      "Environmental Variables Set\n"
     ]
    }
   ],
   "source": [
    "# Just some initialization stuff\n",
    "from utils import initialize"
   ]
  },
  {
   "cell_type": "markdown",
   "metadata": {},
   "source": [
    "---"
   ]
  },
  {
   "cell_type": "markdown",
   "metadata": {},
   "source": [
    "#### What are the goals of today's sessions?\n",
    "1. Introduce basic programming concepts and principles\n",
    "2. Nurture a general sense of familiarity with Python code and usages\n",
    "3. Teach data I/O and pipelining\n",
    "4. Explore effective programming practices\n",
    "5. Write a program from scratch"
   ]
  },
  {
   "cell_type": "markdown",
   "metadata": {},
   "source": [
    "#### What are *not* the goals of today's sessions?\n",
    "1. Make you a Python expert\n",
    "2. Expect production-level code at the end of the course"
   ]
  },
  {
   "cell_type": "markdown",
   "metadata": {},
   "source": [
    "---"
   ]
  },
  {
   "cell_type": "markdown",
   "metadata": {},
   "source": [
    "## Introduction"
   ]
  },
  {
   "cell_type": "markdown",
   "metadata": {},
   "source": [
    "I am a 3rd year graduate student in Mills Lab. I recently published a paper on a Python library I wrote called [`bamnostic`](https://github.com/betteridiot/bamnostic), which is used to parse and analyze Next-Generation Sequencing data in their binary compressed format called BAM. Feel free to look it over."
   ]
  },
  {
   "cell_type": "markdown",
   "metadata": {},
   "source": [
    "Here is the important part: I am a non-traditional, veteran, [biology student](https://www.uncp.edu/news/uncp-student-wins-top-honors-national-biomedical-conference)! I didn't start *really* programming until about 4 years ago. I already had a career before going to college. All that is to say, I have been exactly where you are at right now. "
   ]
  },
  {
   "cell_type": "markdown",
   "metadata": {},
   "source": [
    "Some people believe that programming is the new literacy, and it just needs to be taught. Others\n",
    "believe that while everyone *can* program (with enough effort), some people just seem\n",
    "to have an inherent talent for it. "
   ]
  },
  {
   "cell_type": "markdown",
   "metadata": {},
   "source": [
    "I am here to say, that none of that matters today. If you master Python from this session alone or only pick up enough to know that the code on your screen is Python, then I count it all as a win. This isn't a pass/fail-it is an introduction. So cut loose and lean in. Who knows, you may just learn something."
   ]
  },
  {
   "cell_type": "markdown",
   "metadata": {},
   "source": [
    "---"
   ]
  },
  {
   "cell_type": "markdown",
   "metadata": {},
   "source": [
    "## Setup"
   ]
  },
  {
   "cell_type": "markdown",
   "metadata": {},
   "source": [
    "Today, we will be using **Python 3.6** for all of our work. If you have not installed Python, feel free to do so. \n",
    "\n",
    "***NOTE:*** You do not need to install both Anaconda and Miniconda, so choose one:\n",
    "1. [Anaconda Distribution](https://www.anaconda.com/download/) is a curated distribution of a select set of Python packages used in the general Data Science community\n",
    "2. [Miniconda](https://conda.io/miniconda.html) is just Python and `conda` (the package manager maintained by Anaconda)"
   ]
  },
  {
   "cell_type": "markdown",
   "metadata": {},
   "source": [
    "### However, ..."
   ]
  },
  {
   "cell_type": "markdown",
   "metadata": {},
   "source": [
    "Today is a special treat for you. **You do not need Python installed today.** You *may* potentially need it later in the week, so it is still prudent to install it. Should you run into any problems, feel free to see me at any of the following:\n",
    "1. At Lunch\n",
    "2. At the end of the day\n",
    "3. Palmer Commons, room 2055b\n",
    "\n",
    "Additionally, you can email me at mdsherm@umich.edu"
   ]
  },
  {
   "cell_type": "markdown",
   "metadata": {},
   "source": [
    "Because of the multitude of configurations student machines can take, I decided to forego all the problems associated with installing Python on each of your machines. Each of the sessions today are housed on a standalone, fully-functioning, interactive server (called [Binder](https://mybinder.org/)) that each one of you can access to."
   ]
  },
  {
   "cell_type": "markdown",
   "metadata": {},
   "source": [
    "---"
   ]
  },
  {
   "cell_type": "markdown",
   "metadata": {},
   "source": [
    "## Instructions"
   ]
  },
  {
   "cell_type": "markdown",
   "metadata": {},
   "source": [
    "At the start of each session, click on the respective hyperlinks below. These will bring you to our interactive environments that we will be using the rest of today.\n",
    "\n",
    "**NOTE**: Try not to close your browser, as you will lose the progress up to that point."
   ]
  },
  {
   "cell_type": "markdown",
   "metadata": {},
   "source": [
    "---"
   ]
  },
  {
   "cell_type": "markdown",
   "metadata": {},
   "source": [
    "## Sessions"
   ]
  },
  {
   "cell_type": "markdown",
   "metadata": {},
   "source": [
    "### [Session I](./session1.ipynb): Introduction to Python and Programming Concepts"
   ]
  },
  {
   "cell_type": "markdown",
   "metadata": {},
   "source": [
    "### [Session II](./session2.ipynb): Programming Concepts, Variables, and Data Structures"
   ]
  },
  {
   "cell_type": "markdown",
   "metadata": {},
   "source": [
    "### [Session III](./session3.ipynb): Control Structures and Functions"
   ]
  },
  {
   "cell_type": "markdown",
   "metadata": {},
   "source": [
    "### [Session IV](./session4.ipynb): System Calls and Plotting"
   ]
  },
  {
   "cell_type": "markdown",
   "metadata": {},
   "source": [
    "---"
   ]
  },
  {
   "cell_type": "markdown",
   "metadata": {},
   "source": [
    "## Saving your work"
   ]
  },
  {
   "cell_type": "markdown",
   "metadata": {},
   "source": [
    "All the materials to this class are on GitHub (found [here](https://github.com/betteridiot/biocomp_bootcamp)) for reference purposes. But, should you decide that you would like to save your work to your local machine, do the following:"
   ]
  },
  {
   "cell_type": "markdown",
   "metadata": {},
   "source": [
    "1. Right click the file you would like to save to your local machine"
   ]
  },
  {
   "cell_type": "markdown",
   "metadata": {},
   "source": [
    "![](./figures/download.png)"
   ]
  },
  {
   "cell_type": "markdown",
   "metadata": {},
   "source": [
    "2. Click 'Download'"
   ]
  },
  {
   "cell_type": "markdown",
   "metadata": {},
   "source": [
    "![](./figures/saveas.png)"
   ]
  },
  {
   "cell_type": "markdown",
   "metadata": {},
   "source": [
    "**NOTE**: This window is dependent on your operating system and Internet Browser. Just follow the same steps you would regularly to save the file somewhere you can find it later."
   ]
  }
 ],
 "metadata": {
  "kernelspec": {
   "display_name": "Python 3",
   "language": "python",
   "name": "python3"
  },
  "language_info": {
   "codemirror_mode": {
    "name": "ipython",
    "version": 3
   },
   "file_extension": ".py",
   "mimetype": "text/x-python",
   "name": "python",
   "nbconvert_exporter": "python",
   "pygments_lexer": "ipython3",
   "version": "3.6.6"
  }
 },
 "nbformat": 4,
 "nbformat_minor": 2
}
