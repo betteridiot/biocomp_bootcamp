{
 "cells": [
  {
   "cell_type": "markdown",
   "metadata": {},
   "source": [
    "# Session III"
   ]
  },
  {
   "cell_type": "markdown",
   "metadata": {},
   "source": [
    "---\n",
    "### Session II Challenge"
   ]
  },
  {
   "cell_type": "code",
   "execution_count": null,
   "metadata": {},
   "outputs": [],
   "source": [
    "str1 = ')()(())))'\n",
    "str2 = '(()(()('\n",
    "\n",
    "new_strings = [str1 + str2, str2 + str1]\n",
    "\n",
    "balance = None\n",
    "for new_string in new_strings:\n",
    "    # check for closing paranthesis at the beginning\n",
    "    if new_string.startswith(')'):\n",
    "        balance = False\n",
    "        \n",
    "    # check for opening paranthesis at the end\n",
    "    elif new_string.endswith('('):\n",
    "        balance = False\n",
    "    else:\n",
    "        count = 0\n",
    "        for paran in new_string:\n",
    "            if paran == '(':\n",
    "                count += 1\n",
    "            else:\n",
    "                count -= 1\n",
    "                if count < 0:\n",
    "                    # If there are more closing than opening at any point\n",
    "                    # it is unbalanced\n",
    "                    balance = False\n",
    "                    break\n",
    "        if count == 0:\n",
    "            balance = True\n",
    "        else:\n",
    "            balance = False\n",
    "if balance:\n",
    "    print('Balanced')\n",
    "else:\n",
    "    print('Unbalanced')"
   ]
  },
  {
   "cell_type": "markdown",
   "metadata": {},
   "source": [
    "---"
   ]
  },
  {
   "cell_type": "markdown",
   "metadata": {},
   "source": [
    "## I/O, Control Structures, and Functions"
   ]
  },
  {
   "cell_type": "markdown",
   "metadata": {},
   "source": [
    "This session will be a lot more interactive. We will be going over some of the 'anatomy' of a script. Again, keep the following in mind:\n",
    "\n",
    "| Coding Counterpart | Paper Component | \n",
    "| :-- | :-- |\n",
    "| Variables | Nouns | \n",
    "| Operators | Verbs |\n",
    "| Lines | Sentences |\n",
    "| Functions | Paragraphs | \n",
    "| Modules | Sections | "
   ]
  }
 ],
 "metadata": {
  "kernelspec": {
   "display_name": "Python 3",
   "language": "python",
   "name": "python3"
  },
  "language_info": {
   "codemirror_mode": {
    "name": "ipython",
    "version": 3
   },
   "file_extension": ".py",
   "mimetype": "text/x-python",
   "name": "python",
   "nbconvert_exporter": "python",
   "pygments_lexer": "ipython3",
   "version": "3.6.6"
  }
 },
 "nbformat": 4,
 "nbformat_minor": 2
}
