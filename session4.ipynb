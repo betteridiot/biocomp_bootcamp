{
 "cells": [
  {
   "cell_type": "markdown",
   "metadata": {},
   "source": [
    "# Session IV: System Calls and Plotting"
   ]
  },
  {
   "cell_type": "markdown",
   "metadata": {},
   "source": [
    "---\n",
    "### Session III Challenge"
   ]
  },
  {
   "cell_type": "code",
   "execution_count": null,
   "metadata": {},
   "outputs": [],
   "source": [
    "#!/usr/bin/env python\n",
    "\"\"\" Compares two ages\n",
    "\n",
    "Finds the difference of years between an age and a birthdate\n",
    "\n",
    "Usage: python basic_template.py 9001 12\n",
    "\n",
    "Args:\n",
    "    (str): age of the navigator\n",
    "    (str): age of the driver\n",
    "\n",
    "Returns:\n",
    "    (int): difference of age in years\n",
    "\n",
    "\"\"\"\n",
    "import sys\n",
    "\n",
    "        \n",
    "def main(navigator_age, driver_age):\n",
    "    \"\"\" Finds the difference between an age and birthdate in years\n",
    "    \n",
    "    Args:\n",
    "        navigator_age (int): age of the navigator\n",
    "        driver_age (int): age of the driver\n",
    "    \n",
    "    Returns:\n",
    "        Difference in age\n",
    "    \"\"\"\n",
    "    diff = abs(navigator_age - driver_age)\n",
    "    print(f'Difference of {diff} years')\n",
    "    return diff\n",
    "            \n",
    "    \n",
    "if __name__ == '__main__':\n",
    "    n_age = int(sys.argv[1])\n",
    "    d_age = int(sys.argv[2])\n",
    "    main(n_age, d_age)"
   ]
  },
  {
   "cell_type": "markdown",
   "metadata": {},
   "source": [
    "---"
   ]
  },
  {
   "cell_type": "markdown",
   "metadata": {},
   "source": [
    "## System Calls"
   ]
  },
  {
   "cell_type": "markdown",
   "metadata": {},
   "source": [
    "Like it was stated before. One of the biggest strengths of Python is its ability to 'glue' together many programs. This can be done though different APIs and libraries. However, some programs don't have an easy solution like that. For those, we use **system calls**.\n",
    "\n",
    "Where we have run Python from the command line, it is possible to run the command line from Python. Here are some ways to use it."
   ]
  },
  {
   "cell_type": "code",
   "execution_count": 14,
   "metadata": {},
   "outputs": [],
   "source": [
    "from subprocess import run, PIPE"
   ]
  },
  {
   "cell_type": "markdown",
   "metadata": {},
   "source": [
    "The whole API for system calls can be found [here](https://docs.python.org/3/library/subprocess.html) or:"
   ]
  },
  {
   "cell_type": "code",
   "execution_count": null,
   "metadata": {},
   "outputs": [],
   "source": [
    "?run()"
   ]
  },
  {
   "cell_type": "markdown",
   "metadata": {},
   "source": [
    "**Fair Warning**: it is long!\n",
    "\n",
    "The general idea of using `run()` is to give it all the information it needs to send to the command line, and whether or not to capture the output."
   ]
  },
  {
   "cell_type": "code",
   "execution_count": null,
   "metadata": {},
   "outputs": [],
   "source": [
    "# When would you not need to save the output?\n",
    "run('mkdir ./tickle', shell=True) # That is fun, but I don't want that directory anymore\n",
    "run('rm -rf ./tickle', shell=True)"
   ]
  },
  {
   "cell_type": "code",
   "execution_count": 27,
   "metadata": {},
   "outputs": [
    {
     "data": {
      "text/plain": [
       "'CODE_OF_CONDUCT.md\\n'"
      ]
     },
     "execution_count": 27,
     "metadata": {},
     "output_type": "execute_result"
    }
   ],
   "source": [
    "# When would be a time you would want to store the output?\n",
    "job = run('ls | grep CODE', shell=True, encoding = 'utf-8', stdout = PIPE)\n",
    "job.stdout"
   ]
  },
  {
   "cell_type": "markdown",
   "metadata": {},
   "source": [
    "What is `shell`, and why is it set to `True`?"
   ]
  },
  {
   "cell_type": "code",
   "execution_count": null,
   "metadata": {},
   "outputs": [],
   "source": []
  },
  {
   "cell_type": "markdown",
   "metadata": {},
   "source": [
    "It is as easy as that. \n",
    "\n",
    "Just like command line arguments, the shell returns what ***kind*** of object?"
   ]
  },
  {
   "cell_type": "code",
   "execution_count": null,
   "metadata": {},
   "outputs": [],
   "source": [
    "type(job.stdout)"
   ]
  },
  {
   "cell_type": "markdown",
   "metadata": {},
   "source": [
    "---"
   ]
  },
  {
   "cell_type": "markdown",
   "metadata": {},
   "source": [
    "## Tabular data analysis with `pandas`"
   ]
  },
  {
   "cell_type": "markdown",
   "metadata": {},
   "source": [
    "`pandas` is Python's answer to R's `data.frame`. It exposes the `DataFrame` data structure, which is described as a \"two-dimensional size-mutable, potentially heterogeneous tabular data structure with labeled axes (rows and columns)\"\n",
    "\n",
    "`pandas` is a ***whole lot more*** than `DataFrame`, but for anybody that has used R, this is one of the most important parts of `pandas`."
   ]
  },
  {
   "cell_type": "code",
   "execution_count": null,
   "metadata": {},
   "outputs": [],
   "source": [
    "# standard pandas importing convention\n",
    "import pandas as pd"
   ]
  },
  {
   "cell_type": "markdown",
   "metadata": {},
   "source": [
    "Don't worry about those warnings, they are just an artifact of the environment we are working on.\n",
    "\n",
    "Remember all the file handling stuff we did earlier, where you had to run through each line? Watch this..."
   ]
  },
  {
   "cell_type": "code",
   "execution_count": null,
   "metadata": {},
   "outputs": [],
   "source": [
    "pokemon = pd.read_csv('./datasets/pokemon.csv', index_col=0)"
   ]
  },
  {
   "cell_type": "code",
   "execution_count": null,
   "metadata": {},
   "outputs": [],
   "source": [
    "pokemon.head()"
   ]
  },
  {
   "cell_type": "code",
   "execution_count": null,
   "metadata": {},
   "outputs": [],
   "source": [
    "# What pokemon have the highest base attack rating?\n",
    "pokemon.sort_values('Attack', ascending=False)[:10]"
   ]
  },
  {
   "cell_type": "markdown",
   "metadata": {},
   "source": [
    "What about tab-separated values?"
   ]
  },
  {
   "cell_type": "code",
   "execution_count": null,
   "metadata": {},
   "outputs": [],
   "source": [
    "weather = pd.read_table('./datasets/weather.tsv', delimiter='\\t').dropna(axis=1, how='all', thresh=800)"
   ]
  },
  {
   "cell_type": "code",
   "execution_count": null,
   "metadata": {},
   "outputs": [],
   "source": [
    "weather.head()"
   ]
  },
  {
   "cell_type": "code",
   "execution_count": null,
   "metadata": {},
   "outputs": [],
   "source": [
    "# Exploring some statistics\n"
   ]
  },
  {
   "cell_type": "markdown",
   "metadata": {},
   "source": [
    "Even plays well with Excel"
   ]
  },
  {
   "cell_type": "code",
   "execution_count": null,
   "metadata": {},
   "outputs": [],
   "source": [
    "ramen = pd.read_excel('./datasets/ramen-ratings.xlsx')"
   ]
  },
  {
   "cell_type": "code",
   "execution_count": null,
   "metadata": {},
   "outputs": [],
   "source": [
    "ramen.head()"
   ]
  },
  {
   "cell_type": "markdown",
   "metadata": {},
   "source": [
    "### An extended version of my `pandas` tutorial can be found [here](https://github.com/betteridiot/b575w18/blob/master/Pandas.ipynb)"
   ]
  },
  {
   "cell_type": "markdown",
   "metadata": {},
   "source": [
    "---"
   ]
  },
  {
   "cell_type": "markdown",
   "metadata": {},
   "source": [
    "## Data Visualization"
   ]
  },
  {
   "cell_type": "markdown",
   "metadata": {},
   "source": [
    "Data is great, but unless we can determine trends in it, it is useless. One of the most efficient ways to provide evidence of these trends is data visualization. This is just a graphic representation of the data."
   ]
  },
  {
   "cell_type": "code",
   "execution_count": null,
   "metadata": {},
   "outputs": [],
   "source": [
    "%matplotlib inline\n",
    "# This first line is special magic just for notebooks that let us see the plots as we make them\n",
    "\n",
    "import matplotlib.pyplot as plt\n",
    "import seaborn as sns"
   ]
  },
  {
   "cell_type": "code",
   "execution_count": null,
   "metadata": {},
   "outputs": [],
   "source": [
    "# Also, we are going to want to generate some data\n",
    "import numpy as np\n",
    "from sklearn.datasets import make_classification\n",
    "from utils.session4 import *"
   ]
  },
  {
   "cell_type": "markdown",
   "metadata": {},
   "source": [
    "## Simulating data"
   ]
  },
  {
   "cell_type": "code",
   "execution_count": null,
   "metadata": {},
   "outputs": [],
   "source": [
    "random_data = make_classification(n_samples=1000, n_features=10, n_informative=4, random_state=0)[0]\n",
    "df = pd.DataFrame(random_data, columns=gen_lab(3, 10))\n",
    "df.head()"
   ]
  },
  {
   "cell_type": "markdown",
   "metadata": {},
   "source": [
    "## Add a categorical value column"
   ]
  },
  {
   "cell_type": "code",
   "execution_count": null,
   "metadata": {},
   "outputs": [],
   "source": [
    "feature_types = ['gene', 'CDS', 'mRNA', 'exon', 'five_prime_UTR',\n",
    "                'three_prime_UTR', 'rRNA', 'tRNA', 'ncRNA', 'tmRNA',\n",
    "                'transcript', 'mobile_genetic_element', 'origin_of_replication',\n",
    "                'promoter', 'repeat_region']\n",
    "feature_column = pd.Series(nr.choice(feature_types, 1000), name='feature_type')\n",
    "df = df.join(feature_column)"
   ]
  },
  {
   "cell_type": "code",
   "execution_count": null,
   "metadata": {},
   "outputs": [],
   "source": [
    "df.head()"
   ]
  },
  {
   "cell_type": "markdown",
   "metadata": {},
   "source": [
    "## `matplotlib` f|rom scratch"
   ]
  },
  {
   "cell_type": "code",
   "execution_count": null,
   "metadata": {},
   "outputs": [],
   "source": [
    "plt.plot(df.iloc[:10,1], color='#FF8016', marker='o', linestyle=':')\n",
    "plt.plot(df.iloc[:10,2], color='#2353C0', marker='^', linestyle='')\n",
    "plt.plot(df.iloc[:10,3], color='#FFD716', linestyle='--')\n",
    "plt.show()"
   ]
  },
  {
   "cell_type": "markdown",
   "metadata": {},
   "source": [
    "## Multiple Plots"
   ]
  },
  {
   "cell_type": "markdown",
   "metadata": {},
   "source": [
    "matplotlib allows users to define the regions of their plotting canvas. If the user intends to create a canvas with multiple plots, they would use the `subplot()` function. The `subplot` function sets the number of rows and columns the canvas will have **AND** sets the current index of where the next subplot will be rendered."
   ]
  },
  {
   "cell_type": "code",
   "execution_count": null,
   "metadata": {},
   "outputs": [],
   "source": [
    "plt.figure(1)\n",
    "# two row, two columns, first index (top-left)\n",
    "plt.subplot(221)\n",
    "plt.plot(df.loc[:,['se', 'yy']], alpha=0.5)\n",
    "\n",
    "plt.subplot(222)\n",
    "plt.plot(df.loc[:,['va','xg']], alpha=0.5)\n",
    "\n",
    "plt.subplot(223)\n",
    "plt.plot(df.iloc[:,8:10], alpha=0.5)\n",
    "\n",
    "plt.subplot(224)\n",
    "plt.plot(df.iloc[:,:2], alpha=0.5)\n",
    "\n",
    "plt.subplots_adjust(top=.92, bottom=.08, left=.1, right=.95, hspace=.25, wspace=.35)\n",
    "plt.show()"
   ]
  },
  {
   "cell_type": "code",
   "execution_count": null,
   "metadata": {},
   "outputs": [],
   "source": [
    "n, bins, patches = plt.hist(df.yy, facecolor='#5A0BB0', alpha=0.8, rwidth=.8, align='mid')\n",
    "plt.title(\"Hello\")\n",
    "plt.ylabel('counts')"
   ]
  },
  {
   "cell_type": "markdown",
   "metadata": {},
   "source": [
    "The biggest issue with `matplotlib` isn't its lack of power...it is that it is too much power. With great power, comes great responsibility. When you are quickly exploring data, you don't want to have to fiddle around with axis limits, colors, figure sizes, etc. Yes, you *can* make good figures with `matplotlib`, but you probably won't."
   ]
  },
  {
   "cell_type": "markdown",
   "metadata": {},
   "source": [
    "## Using pandas `.plot()`"
   ]
  },
  {
   "cell_type": "markdown",
   "metadata": {},
   "source": [
    "Pandas abstracts some of those initial issues with data visualization. However, it is still `matplotlib`-esque.</br></br>\n",
    "Pandas is built off of `numpy` for its caclulations, but its plotting is built off of `matplotlib`. Therefore, just like any data you get from `pandas` can be used within `numpy`, every plot that is returned from `pandas` is a `matplotlib` plot...and subject to `matplotlib` modification."
   ]
  },
  {
   "cell_type": "code",
   "execution_count": null,
   "metadata": {},
   "outputs": [],
   "source": [
    "ax = df.feature_type.value_counts(sort=True).plot.bar()\n",
    "ax.set_ylabel('count')\n",
    "ax.set_xlabel('Feature Type')\n",
    "plt.show()"
   ]
  },
  {
   "cell_type": "code",
   "execution_count": null,
   "metadata": {},
   "outputs": [],
   "source": [
    "ax = pd.plotting.scatter_matrix(df, alpha = 0.05, figsize=(10,10), \n",
    "                                diagonal='kde')"
   ]
  },
  {
   "cell_type": "markdown",
   "metadata": {},
   "source": [
    "# Seaborn"
   ]
  },
  {
   "cell_type": "markdown",
   "metadata": {},
   "source": [
    "Seaborn is a library that specializes in making *prettier* `matplotlib` plots of statistical data. There was a brief introduction to seaborn in the last class, which we will re-create here."
   ]
  },
  {
   "cell_type": "code",
   "execution_count": null,
   "metadata": {},
   "outputs": [],
   "source": [
    "import seaborn as sns"
   ]
  },
  {
   "cell_type": "code",
   "execution_count": null,
   "metadata": {},
   "outputs": [],
   "source": [
    "sns.set(style='whitegrid')"
   ]
  },
  {
   "cell_type": "markdown",
   "metadata": {},
   "source": [
    "## Violin plot"
   ]
  },
  {
   "cell_type": "markdown",
   "metadata": {},
   "source": [
    "Fancier box plot that gets rid of the need for 'jitter' to show the inherent distribution of the data points"
   ]
  },
  {
   "cell_type": "code",
   "execution_count": null,
   "metadata": {},
   "outputs": [],
   "source": [
    "fig, axes = plt.subplots(figsize=(10, 10))\n",
    "sns.violinplot(data=df.iloc[:,:-1], ax=axes)\n",
    "axes.set_ylabel('number')\n",
    "axes.set_xlabel('columns')\n",
    "plt.show()"
   ]
  },
  {
   "cell_type": "markdown",
   "metadata": {},
   "source": [
    "## Distplot"
   ]
  },
  {
   "cell_type": "code",
   "execution_count": null,
   "metadata": {},
   "outputs": [],
   "source": [
    "sns.set(palette='muted')\n",
    "\n",
    "f, axes = plt.subplots(2,2, figsize=(10,10), sharex=True)\n",
    "sns.despine(left=True)\n",
    "\n",
    "sns.distplot(df.iloc[:, nr.randint(0,len(df.columns)-1)], ax=axes[0,0])\n",
    "sns.distplot(df.iloc[:, nr.randint(0,len(df.columns)-1)], kde=False, ax=axes[0,1], color='orange')\n",
    "sns.distplot(df.iloc[:, nr.randint(0,len(df.columns)-1)], hist=False, kde_kws={'shade':True}, ax=axes[1,0], color='purple')\n",
    "sns.distplot(df.iloc[:, nr.randint(0,len(df.columns)-1)], hist=False, rug=True, ax=axes[1,1], color='green')"
   ]
  },
  {
   "cell_type": "markdown",
   "metadata": {},
   "source": [
    "## Hexbin with marginal distributions"
   ]
  },
  {
   "cell_type": "code",
   "execution_count": null,
   "metadata": {},
   "outputs": [],
   "source": [
    "sns.set(style='ticks')"
   ]
  },
  {
   "cell_type": "code",
   "execution_count": null,
   "metadata": {},
   "outputs": [],
   "source": [
    "sns.jointplot(df.iloc[:,nr.randint(0, len(df.columns)-1)], \n",
    "              df.iloc[:,nr.randint(0, len(df.columns)-1)], \n",
    "              kind='hex', color= '#246068')"
   ]
  },
  {
   "cell_type": "code",
   "execution_count": null,
   "metadata": {},
   "outputs": [],
   "source": [
    "sns.set()\n",
    "\n",
    "g = sns.FacetGrid(df.loc[:,['hj','feature_type', 'tv']], col='feature_type', hue='feature_type', col_wrap=5)\n",
    "g.map(plt.scatter, 'hj', 'tv')"
   ]
  },
  {
   "cell_type": "code",
   "execution_count": null,
   "metadata": {},
   "outputs": [],
   "source": []
  }
 ],
 "metadata": {
  "kernelspec": {
   "display_name": "Python 3",
   "language": "python",
   "name": "python3"
  },
  "language_info": {
   "codemirror_mode": {
    "name": "ipython",
    "version": 3
   },
   "file_extension": ".py",
   "mimetype": "text/x-python",
   "name": "python",
   "nbconvert_exporter": "python",
   "pygments_lexer": "ipython3",
   "version": "3.6.6"
  }
 },
 "nbformat": 4,
 "nbformat_minor": 2
}
