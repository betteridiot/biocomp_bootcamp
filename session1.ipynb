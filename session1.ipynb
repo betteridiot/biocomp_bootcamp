{
 "cells": [
  {
   "cell_type": "markdown",
   "metadata": {},
   "source": [
    "# Session I: Introduction to Python and Programming Concepts"
   ]
  },
  {
   "cell_type": "markdown",
   "metadata": {},
   "source": [
    "---"
   ]
  },
  {
   "cell_type": "markdown",
   "metadata": {},
   "source": [
    "### What is Programming?"
   ]
  },
  {
   "cell_type": "markdown",
   "metadata": {},
   "source": [
    "writing a set of instructions for the computer to carry out using a language the computer can understand\n",
    "\n",
    "writing a set of instructions"
   ]
  },
  {
   "cell_type": "markdown",
   "metadata": {},
   "source": [
    "---"
   ]
  },
  {
   "cell_type": "markdown",
   "metadata": {},
   "source": [
    "### What is Python?"
   ]
  },
  {
   "cell_type": "markdown",
   "metadata": {},
   "source": [
    "[Here](https://www.python.org/doc/essays/blurb/) is a link to the full, 50&#xa2; word description of Python. This big take-away keywords to know are:\n",
    "1. *Scripted Language*: supports running scripts\n",
    "2. *Interpreted*: an 'interpreter' translates the code as it comes to it, instead of compiling it beforehand\n",
    "3. *Object-oriented*: everything is an 'object', or something that contains data (*attributes*) and/or functions that it can do (*methods*)"
   ]
  },
  {
   "cell_type": "markdown",
   "metadata": {},
   "source": [
    "### Some of the 'Pros' of Python:\n",
    "1. Designed to be easily readable\n",
    "2. Very quick development time (e.g. Easier to write)\n",
    "3. Works on almost every platform\n",
    "4. Easily scalable (e.g. Can be run on distributed computing environments)\n",
    "5. Efficiently 'glues' other languages and components together\n",
    "6. Very strong Open-source community"
   ]
  },
  {
   "cell_type": "code",
   "execution_count": 1,
   "metadata": {},
   "outputs": [
    {
     "name": "stdout",
     "output_type": "stream",
     "text": [
      "The Zen of Python, by Tim Peters\n",
      "\n",
      "Beautiful is better than ugly.\n",
      "Explicit is better than implicit.\n",
      "Simple is better than complex.\n",
      "Complex is better than complicated.\n",
      "Flat is better than nested.\n",
      "Sparse is better than dense.\n",
      "Readability counts.\n",
      "Special cases aren't special enough to break the rules.\n",
      "Although practicality beats purity.\n",
      "Errors should never pass silently.\n",
      "Unless explicitly silenced.\n",
      "In the face of ambiguity, refuse the temptation to guess.\n",
      "There should be one-- and preferably only one --obvious way to do it.\n",
      "Although that way may not be obvious at first unless you're Dutch.\n",
      "Now is better than never.\n",
      "Although never is often better than *right* now.\n",
      "If the implementation is hard to explain, it's a bad idea.\n",
      "If the implementation is easy to explain, it may be a good idea.\n",
      "Namespaces are one honking great idea -- let's do more of those!\n"
     ]
    }
   ],
   "source": [
    "# Zen of Python\n",
    "import this"
   ]
  },
  {
   "cell_type": "markdown",
   "metadata": {},
   "source": [
    "#### Some of the 'Cons' of Python:\n",
    "1. Difficult to parallelize\n",
    "2. Generally slower compared to other languages\n",
    "3. Has a little of a learning curve when specializing in niche areas\n",
    "4. Very strong Open-source community"
   ]
  },
  {
   "cell_type": "markdown",
   "metadata": {},
   "source": [
    "---"
   ]
  },
  {
   "cell_type": "markdown",
   "metadata": {},
   "source": [
    "### How important is readability?"
   ]
  },
  {
   "cell_type": "markdown",
   "metadata": {},
   "source": [
    "![](./figures/paragraph.png)"
   ]
  },
  {
   "cell_type": "markdown",
   "metadata": {},
   "source": [
    "Can you visually tell the separation of thoughts in both of these examples?"
   ]
  },
  {
   "cell_type": "markdown",
   "metadata": {},
   "source": [
    "Everything in Python is grouped by whitespace. Like the 'Reverse Indentation format' example above, blocks of thought/instructions are grouped by indenting."
   ]
  },
  {
   "cell_type": "code",
   "execution_count": 2,
   "metadata": {},
   "outputs": [
    {
     "name": "stdout",
     "output_type": "stream",
     "text": [
      "0 is Even\n",
      "1  is Odd\n",
      "2 is Even\n",
      "3  is Odd\n",
      "4 is Even\n",
      "5  is Odd\n",
      "6 is Even\n",
      "7  is Odd\n",
      "8 is Even\n",
      "9  is Odd\n",
      "List Processed\n"
     ]
    }
   ],
   "source": [
    "# An example\n",
    "a_list = list(range(10))\n",
    "\n",
    "for each_item in a_list:\n",
    "    if each_item % 2 == 0: # this is called a modulo: gives the remainder after division\n",
    "        print(each_item, 'is Even')\n",
    "    else:\n",
    "        print(each_item, ' is Odd')\n",
    "else:\n",
    "    print('List Processed')"
   ]
  },
  {
   "cell_type": "markdown",
   "metadata": {},
   "source": [
    "### What does bad code look like?"
   ]
  },
  {
   "cell_type": "markdown",
   "metadata": {},
   "source": [
    "Readability and brevity matter in programming. In [this](./datasets/prog.c) example, you see a clear example of why readability is important. Can you, even as a non-coder, tell me what components of this C program belong to which?"
   ]
  },
  {
   "cell_type": "markdown",
   "metadata": {},
   "source": [
    "And like readability, to the reader of your code, brevity does too. Here is another [example](./datasets/csv_manip.c) of another C program that manipulates a CSV file."
   ]
  },
  {
   "cell_type": "markdown",
   "metadata": {},
   "source": [
    "### What about good-ish code?"
   ]
  },
  {
   "cell_type": "markdown",
   "metadata": {},
   "source": [
    "Here is an [example](./datasets/csc_manip.py) of Python script that does the same thing that the C script does. Both brevity and readability are somewhat present here."
   ]
  },
  {
   "cell_type": "markdown",
   "metadata": {},
   "source": [
    "Think of script like a paper you would write for a journal:\n",
    "\n",
    "| Paper Component | Coding Counterpart |\n",
    "| :-- | :-- |\n",
    "| Nouns | Variables |\n",
    "| Verbs | Operators |\n",
    "| Sentences | Lines |\n",
    "| Paragraphs | Functions |\n",
    "| Sections | Modules |"
   ]
  },
  {
   "cell_type": "markdown",
   "metadata": {},
   "source": [
    "### In Summary"
   ]
  },
  {
   "cell_type": "markdown",
   "metadata": {},
   "source": [
    "Python is a great language for all skill levels. Not only does the readability and ease-of-use help beginners to learn, but also there is a *very* active job market for Python developers in everything from biomedical research to Web Development to Netflix & Disney."
   ]
  },
  {
   "cell_type": "markdown",
   "metadata": {},
   "source": [
    "It is, however, important to say that Python is just a tool...and not the only one. A programming language should be used when it answers a programmatic question you are trying to solve.\n",
    "\n",
    "* For Prototyping and quickly exploring data, R is an easy choice\n",
    "* For high-speed, high-throughput, parallel computing; C/C++ is a great option\n",
    "* For web development or internet facing applications, it is hard to beat JavaScript\n",
    "\n",
    "While Python can do all these things, these others are often better at it."
   ]
  },
  {
   "cell_type": "markdown",
   "metadata": {},
   "source": [
    "---\n",
    "### Noodles\n",
    "Write down all the steps it would take to get noodles into your mouth from the starting point of not having any noodles."
   ]
  },
  {
   "cell_type": "markdown",
   "metadata": {},
   "source": []
  },
  {
   "cell_type": "markdown",
   "metadata": {},
   "source": [
    "---"
   ]
  },
  {
   "cell_type": "markdown",
   "metadata": {},
   "source": [
    "### Challenge"
   ]
  },
  {
   "cell_type": "markdown",
   "metadata": {},
   "source": [
    "This is meant to be a challenge, and if you don't get it, don't worry. The purpose is to make you think about how you would solve it."
   ]
  },
  {
   "cell_type": "markdown",
   "metadata": {},
   "source": [
    "Go to [basic_script.py](./basic_script.py), and write your first program."
   ]
  },
  {
   "cell_type": "markdown",
   "metadata": {},
   "source": [
    "Now run you program by running the cell below"
   ]
  },
  {
   "cell_type": "code",
   "execution_count": null,
   "metadata": {},
   "outputs": [],
   "source": [
    "!python basic_script.py"
   ]
  },
  {
   "cell_type": "markdown",
   "metadata": {},
   "source": [
    "This same command can be run from the console/terminal (without the exclamation mark)"
   ]
  }
 ],
 "metadata": {
  "kernelspec": {
   "display_name": "Python 3",
   "language": "python",
   "name": "python3"
  },
  "language_info": {
   "codemirror_mode": {
    "name": "ipython",
    "version": 3
   },
   "file_extension": ".py",
   "mimetype": "text/x-python",
   "name": "python",
   "nbconvert_exporter": "python",
   "pygments_lexer": "ipython3",
   "version": "3.6.6"
  }
 },
 "nbformat": 4,
 "nbformat_minor": 2
}
